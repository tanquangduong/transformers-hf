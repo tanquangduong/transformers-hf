{
 "cells": [
  {
   "cell_type": "markdown",
   "id": "1c33cf04-9bb6-4bee-9c80-0747206f7f77",
   "metadata": {},
   "source": [
    "## Import required packages"
   ]
  },
  {
   "cell_type": "code",
   "execution_count": 21,
   "id": "0d181712-2721-47e8-8816-2a8856699173",
   "metadata": {},
   "outputs": [],
   "source": [
    "import os\n",
    "import torch\n",
    "import numpy as np\n",
    "import pandas as pd\n",
    "import matplotlib.pyplot as plt\n",
    "from datasets import load_dataset, load_from_disk, load_dataset_builder, get_dataset_split_names, ClassLabel,Dataset,DatasetDict\n",
    "from sklearn.model_selection import train_test_split\n",
    "from sklearn.utils import resample"
   ]
  },
  {
   "cell_type": "markdown",
   "id": "d04f3747-91a2-4df4-bb03-0be4b1341933",
   "metadata": {},
   "source": [
    "## Login to Huggingface Hub \n",
    "To push the trained model to your Hugging Face Hub"
   ]
  },
  {
   "cell_type": "code",
   "execution_count": 2,
   "id": "f4a531d9-d253-4f5d-8a0b-88d846cf9f69",
   "metadata": {},
   "outputs": [
    {
     "data": {
      "application/vnd.jupyter.widget-view+json": {
       "model_id": "f38414ef2d3b45a29a7c6cc89e8979c6",
       "version_major": 2,
       "version_minor": 0
      },
      "text/plain": [
       "VBox(children=(HTML(value='<center> <img\\nsrc=https://huggingface.co/front/assets/huggingface_logo-noborder.sv…"
      ]
     },
     "metadata": {},
     "output_type": "display_data"
    }
   ],
   "source": [
    "from huggingface_hub import notebook_login\n",
    "notebook_login()"
   ]
  },
  {
   "cell_type": "markdown",
   "id": "a35b34ff-5af9-4b3d-a9f8-fc6c1c15e525",
   "metadata": {},
   "source": [
    "## Load and Explore dataset"
   ]
  },
  {
   "cell_type": "code",
   "execution_count": 3,
   "id": "a3ab8dbd-f75b-41b0-b457-4f440c9ba840",
   "metadata": {},
   "outputs": [
    {
     "name": "stderr",
     "output_type": "stream",
     "text": [
      "C:\\Users\\easyb\\Anaconda3\\envs\\transformer\\lib\\site-packages\\datasets\\load.py:1486: FutureWarning: The repository for emotion contains custom code which must be executed to correctly load the dataset. You can inspect the repository content at https://hf.co/datasets/emotion\n",
      "You can avoid this message in future by passing the argument `trust_remote_code=True`.\n",
      "Passing `trust_remote_code=True` will be mandatory to load this dataset from the next major release of `datasets`.\n",
      "  warnings.warn(\n"
     ]
    }
   ],
   "source": [
    "dataset_name = \"emotion\"\n",
    "dataset = load_dataset(dataset_name)\n",
    "num_labels = 6\n",
    "labels = dataset[\"train\"].features[\"label\"].names"
   ]
  },
  {
   "cell_type": "code",
   "execution_count": 4,
   "id": "e62efd5a-0a5b-42ba-8ea9-b023f81ef027",
   "metadata": {},
   "outputs": [
    {
     "data": {
      "text/plain": [
       "DatasetDict({\n",
       "    train: Dataset({\n",
       "        features: ['text', 'label'],\n",
       "        num_rows: 16000\n",
       "    })\n",
       "    validation: Dataset({\n",
       "        features: ['text', 'label'],\n",
       "        num_rows: 2000\n",
       "    })\n",
       "    test: Dataset({\n",
       "        features: ['text', 'label'],\n",
       "        num_rows: 2000\n",
       "    })\n",
       "})"
      ]
     },
     "execution_count": 4,
     "metadata": {},
     "output_type": "execute_result"
    }
   ],
   "source": [
    "dataset"
   ]
  },
  {
   "cell_type": "markdown",
   "id": "251e6622-ad64-4392-88a5-5df694a7ccb3",
   "metadata": {},
   "source": [
    "### Transform dataset to dataframe"
   ]
  },
  {
   "cell_type": "code",
   "execution_count": 5,
   "id": "cfacc428-61bb-467e-8824-8b3a8c25d113",
   "metadata": {},
   "outputs": [
    {
     "data": {
      "text/html": [
       "<div>\n",
       "<style scoped>\n",
       "    .dataframe tbody tr th:only-of-type {\n",
       "        vertical-align: middle;\n",
       "    }\n",
       "\n",
       "    .dataframe tbody tr th {\n",
       "        vertical-align: top;\n",
       "    }\n",
       "\n",
       "    .dataframe thead th {\n",
       "        text-align: right;\n",
       "    }\n",
       "</style>\n",
       "<table border=\"1\" class=\"dataframe\">\n",
       "  <thead>\n",
       "    <tr style=\"text-align: right;\">\n",
       "      <th></th>\n",
       "      <th>text</th>\n",
       "      <th>label</th>\n",
       "    </tr>\n",
       "  </thead>\n",
       "  <tbody>\n",
       "    <tr>\n",
       "      <th>0</th>\n",
       "      <td>i didnt feel humiliated</td>\n",
       "      <td>0</td>\n",
       "    </tr>\n",
       "    <tr>\n",
       "      <th>1</th>\n",
       "      <td>i can go from feeling so hopeless to so damned...</td>\n",
       "      <td>0</td>\n",
       "    </tr>\n",
       "    <tr>\n",
       "      <th>2</th>\n",
       "      <td>im grabbing a minute to post i feel greedy wrong</td>\n",
       "      <td>3</td>\n",
       "    </tr>\n",
       "    <tr>\n",
       "      <th>3</th>\n",
       "      <td>i am ever feeling nostalgic about the fireplac...</td>\n",
       "      <td>2</td>\n",
       "    </tr>\n",
       "    <tr>\n",
       "      <th>4</th>\n",
       "      <td>i am feeling grouchy</td>\n",
       "      <td>3</td>\n",
       "    </tr>\n",
       "  </tbody>\n",
       "</table>\n",
       "</div>"
      ],
      "text/plain": [
       "                                                text  label\n",
       "0                            i didnt feel humiliated      0\n",
       "1  i can go from feeling so hopeless to so damned...      0\n",
       "2   im grabbing a minute to post i feel greedy wrong      3\n",
       "3  i am ever feeling nostalgic about the fireplac...      2\n",
       "4                               i am feeling grouchy      3"
      ]
     },
     "execution_count": 5,
     "metadata": {},
     "output_type": "execute_result"
    }
   ],
   "source": [
    "dataset.set_format(type=\"pandas\")\n",
    "df = dataset[\"train\"][:]\n",
    "df.head()"
   ]
  },
  {
   "cell_type": "markdown",
   "id": "8752ec93-13a0-4443-b4e0-15408c93a235",
   "metadata": {},
   "source": [
    "### Convert label"
   ]
  },
  {
   "cell_type": "code",
   "execution_count": 6,
   "id": "928e8490-f504-4397-a3ba-e61cd47c7ea0",
   "metadata": {},
   "outputs": [
    {
     "data": {
      "text/html": [
       "<div>\n",
       "<style scoped>\n",
       "    .dataframe tbody tr th:only-of-type {\n",
       "        vertical-align: middle;\n",
       "    }\n",
       "\n",
       "    .dataframe tbody tr th {\n",
       "        vertical-align: top;\n",
       "    }\n",
       "\n",
       "    .dataframe thead th {\n",
       "        text-align: right;\n",
       "    }\n",
       "</style>\n",
       "<table border=\"1\" class=\"dataframe\">\n",
       "  <thead>\n",
       "    <tr style=\"text-align: right;\">\n",
       "      <th></th>\n",
       "      <th>text</th>\n",
       "      <th>label</th>\n",
       "      <th>label_name</th>\n",
       "    </tr>\n",
       "  </thead>\n",
       "  <tbody>\n",
       "    <tr>\n",
       "      <th>0</th>\n",
       "      <td>i didnt feel humiliated</td>\n",
       "      <td>0</td>\n",
       "      <td>sadness</td>\n",
       "    </tr>\n",
       "    <tr>\n",
       "      <th>1</th>\n",
       "      <td>i can go from feeling so hopeless to so damned...</td>\n",
       "      <td>0</td>\n",
       "      <td>sadness</td>\n",
       "    </tr>\n",
       "    <tr>\n",
       "      <th>2</th>\n",
       "      <td>im grabbing a minute to post i feel greedy wrong</td>\n",
       "      <td>3</td>\n",
       "      <td>anger</td>\n",
       "    </tr>\n",
       "    <tr>\n",
       "      <th>3</th>\n",
       "      <td>i am ever feeling nostalgic about the fireplac...</td>\n",
       "      <td>2</td>\n",
       "      <td>love</td>\n",
       "    </tr>\n",
       "    <tr>\n",
       "      <th>4</th>\n",
       "      <td>i am feeling grouchy</td>\n",
       "      <td>3</td>\n",
       "      <td>anger</td>\n",
       "    </tr>\n",
       "  </tbody>\n",
       "</table>\n",
       "</div>"
      ],
      "text/plain": [
       "                                                text  label label_name\n",
       "0                            i didnt feel humiliated      0    sadness\n",
       "1  i can go from feeling so hopeless to so damned...      0    sadness\n",
       "2   im grabbing a minute to post i feel greedy wrong      3      anger\n",
       "3  i am ever feeling nostalgic about the fireplac...      2       love\n",
       "4                               i am feeling grouchy      3      anger"
      ]
     },
     "execution_count": 6,
     "metadata": {},
     "output_type": "execute_result"
    }
   ],
   "source": [
    "def label_int2str(row):\n",
    "    return dataset[\"train\"].features[\"label\"].int2str(row)\n",
    "\n",
    "df[\"label_name\"] = df[\"label\"].apply(label_int2str)\n",
    "df.head()"
   ]
  },
  {
   "cell_type": "markdown",
   "id": "6a68e670-29fc-4bca-9efa-93b0e10d63f3",
   "metadata": {},
   "source": [
    "### EDA: Label distribution"
   ]
  },
  {
   "cell_type": "code",
   "execution_count": 7,
   "id": "0af27971-a062-49cc-83d9-5b94612f5edb",
   "metadata": {},
   "outputs": [
    {
     "data": {
      "image/png": "[encoded data removed]",
      "text/plain": [
       "<Figure size 640x480 with 1 Axes>"
      ]
     },
     "metadata": {},
     "output_type": "display_data"
    }
   ],
   "source": [
    "df[\"label_name\"].value_counts(ascending=True).plot.barh()\n",
    "plt.title(\"Label distribution\")\n",
    "plt.ylabel(\"Label name\")\n",
    "plt.xlabel(\"Count\")\n",
    "plt.show()"
   ]
  },
  {
   "cell_type": "markdown",
   "id": "afd0908e-f7af-4f18-b011-bc5ec231b8a4",
   "metadata": {},
   "source": [
    "### EDA: Sweet length per label"
   ]
  },
  {
   "cell_type": "code",
   "execution_count": 8,
   "id": "a5717e45-40db-46bd-be3d-5f6fc08a7f78",
   "metadata": {},
   "outputs": [
    {
     "data": {
      "image/png": "[encoded data removed]",
      "text/plain": [
       "<Figure size 640x480 with 1 Axes>"
      ]
     },
     "metadata": {},
     "output_type": "display_data"
    }
   ],
   "source": [
    "df[\"Tweet Length\"] = df[\"text\"].str.split().apply(len)\n",
    "df.boxplot(\"Tweet Length\", by=\"label_name\", grid=False, showfliers=False,\n",
    "           color=\"blue\")\n",
    "plt.suptitle(\"\")\n",
    "plt.xlabel(\"Label name\")\n",
    "plt.ylabel(\"World count\")\n",
    "plt.show()"
   ]
  },
  {
   "cell_type": "markdown",
   "id": "8d2e727f-9fe0-493b-b4f9-4b4ec537af47",
   "metadata": {},
   "source": [
    "# Create balanced dataset from the 'emotion' dataset"
   ]
  },
  {
   "cell_type": "code",
   "execution_count": 12,
   "id": "ba66bfa4-038b-487b-9456-d5fc8763c43c",
   "metadata": {},
   "outputs": [],
   "source": [
    "# get dataframe format of the dataset\n",
    "df_train = dataset[\"train\"][:]\n",
    "df_val = dataset[\"validation\"][:]\n",
    "df_test = dataset[\"test\"][:]"
   ]
  },
  {
   "cell_type": "code",
   "execution_count": 15,
   "id": "9f557e17-5d6a-4986-a856-8396998380c8",
   "metadata": {},
   "outputs": [
    {
     "data": {
      "text/html": [
       "<div>\n",
       "<style scoped>\n",
       "    .dataframe tbody tr th:only-of-type {\n",
       "        vertical-align: middle;\n",
       "    }\n",
       "\n",
       "    .dataframe tbody tr th {\n",
       "        vertical-align: top;\n",
       "    }\n",
       "\n",
       "    .dataframe thead th {\n",
       "        text-align: right;\n",
       "    }\n",
       "</style>\n",
       "<table border=\"1\" class=\"dataframe\">\n",
       "  <thead>\n",
       "    <tr style=\"text-align: right;\">\n",
       "      <th></th>\n",
       "      <th>text</th>\n",
       "      <th>label</th>\n",
       "    </tr>\n",
       "  </thead>\n",
       "  <tbody>\n",
       "    <tr>\n",
       "      <th>0</th>\n",
       "      <td>i didnt feel humiliated</td>\n",
       "      <td>0</td>\n",
       "    </tr>\n",
       "    <tr>\n",
       "      <th>1</th>\n",
       "      <td>i can go from feeling so hopeless to so damned...</td>\n",
       "      <td>0</td>\n",
       "    </tr>\n",
       "    <tr>\n",
       "      <th>2</th>\n",
       "      <td>im grabbing a minute to post i feel greedy wrong</td>\n",
       "      <td>3</td>\n",
       "    </tr>\n",
       "    <tr>\n",
       "      <th>3</th>\n",
       "      <td>i am ever feeling nostalgic about the fireplac...</td>\n",
       "      <td>2</td>\n",
       "    </tr>\n",
       "    <tr>\n",
       "      <th>4</th>\n",
       "      <td>i am feeling grouchy</td>\n",
       "      <td>3</td>\n",
       "    </tr>\n",
       "  </tbody>\n",
       "</table>\n",
       "</div>"
      ],
      "text/plain": [
       "                                                text  label\n",
       "0                            i didnt feel humiliated      0\n",
       "1  i can go from feeling so hopeless to so damned...      0\n",
       "2   im grabbing a minute to post i feel greedy wrong      3\n",
       "3  i am ever feeling nostalgic about the fireplac...      2\n",
       "4                               i am feeling grouchy      3"
      ]
     },
     "execution_count": 15,
     "metadata": {},
     "output_type": "execute_result"
    }
   ],
   "source": [
    "# combined dataframe\n",
    "df_combined = pd.concat([df_train, df_val, df_test])\n",
    "df_combined.head()"
   ]
  },
  {
   "cell_type": "code",
   "execution_count": 16,
   "id": "e761a6a5-c6b5-4106-9bbb-93cade44204d",
   "metadata": {},
   "outputs": [
    {
     "data": {
      "text/plain": [
       "(20000, 2)"
      ]
     },
     "execution_count": 16,
     "metadata": {},
     "output_type": "execute_result"
    }
   ],
   "source": [
    "# get df_combined shape\n",
    "df_combined.shape"
   ]
  },
  {
   "cell_type": "code",
   "execution_count": 17,
   "id": "52c37401-58ce-4e02-8086-ab9c49c47f94",
   "metadata": {},
   "outputs": [
    {
     "data": {
      "text/html": [
       "<div>\n",
       "<style scoped>\n",
       "    .dataframe tbody tr th:only-of-type {\n",
       "        vertical-align: middle;\n",
       "    }\n",
       "\n",
       "    .dataframe tbody tr th {\n",
       "        vertical-align: top;\n",
       "    }\n",
       "\n",
       "    .dataframe thead th {\n",
       "        text-align: right;\n",
       "    }\n",
       "</style>\n",
       "<table border=\"1\" class=\"dataframe\">\n",
       "  <thead>\n",
       "    <tr style=\"text-align: right;\">\n",
       "      <th></th>\n",
       "      <th>text</th>\n",
       "      <th>label</th>\n",
       "      <th>label_name</th>\n",
       "    </tr>\n",
       "  </thead>\n",
       "  <tbody>\n",
       "    <tr>\n",
       "      <th>0</th>\n",
       "      <td>i didnt feel humiliated</td>\n",
       "      <td>0</td>\n",
       "      <td>sadness</td>\n",
       "    </tr>\n",
       "    <tr>\n",
       "      <th>1</th>\n",
       "      <td>i can go from feeling so hopeless to so damned...</td>\n",
       "      <td>0</td>\n",
       "      <td>sadness</td>\n",
       "    </tr>\n",
       "    <tr>\n",
       "      <th>2</th>\n",
       "      <td>im grabbing a minute to post i feel greedy wrong</td>\n",
       "      <td>3</td>\n",
       "      <td>anger</td>\n",
       "    </tr>\n",
       "    <tr>\n",
       "      <th>3</th>\n",
       "      <td>i am ever feeling nostalgic about the fireplac...</td>\n",
       "      <td>2</td>\n",
       "      <td>love</td>\n",
       "    </tr>\n",
       "    <tr>\n",
       "      <th>4</th>\n",
       "      <td>i am feeling grouchy</td>\n",
       "      <td>3</td>\n",
       "      <td>anger</td>\n",
       "    </tr>\n",
       "  </tbody>\n",
       "</table>\n",
       "</div>"
      ],
      "text/plain": [
       "                                                text  label label_name\n",
       "0                            i didnt feel humiliated      0    sadness\n",
       "1  i can go from feeling so hopeless to so damned...      0    sadness\n",
       "2   im grabbing a minute to post i feel greedy wrong      3      anger\n",
       "3  i am ever feeling nostalgic about the fireplac...      2       love\n",
       "4                               i am feeling grouchy      3      anger"
      ]
     },
     "execution_count": 17,
     "metadata": {},
     "output_type": "execute_result"
    }
   ],
   "source": [
    "# create label_name feature for df_combined\n",
    "df_combined[\"label_name\"] = df_combined[\"label\"].apply(label_int2str)\n",
    "df_combined.head()"
   ]
  },
  {
   "cell_type": "code",
   "execution_count": 18,
   "id": "59adfd1e-823d-4543-b62e-16886cfe6e7a",
   "metadata": {},
   "outputs": [
    {
     "data": {
      "image/png": "[encoded data removed]",
      "text/plain": [
       "<Figure size 640x480 with 1 Axes>"
      ]
     },
     "metadata": {},
     "output_type": "display_data"
    }
   ],
   "source": [
    "# get label distribution for the df_combined\n",
    "df_combined[\"label_name\"].value_counts(ascending=True).plot.barh()\n",
    "plt.title(\"Label distribution\")\n",
    "plt.ylabel(\"Label name\")\n",
    "plt.xlabel(\"Count\")\n",
    "plt.show()"
   ]
  },
  {
   "cell_type": "code",
   "execution_count": 20,
   "id": "7af28a08-4a77-4cd8-a64b-375ab4d52cb3",
   "metadata": {},
   "outputs": [
    {
     "data": {
      "text/plain": [
       "label_name\n",
       "surprise     719\n",
       "love        1641\n",
       "fear        2373\n",
       "anger       2709\n",
       "sadness     5797\n",
       "joy         6761\n",
       "Name: count, dtype: int64"
      ]
     },
     "execution_count": 20,
     "metadata": {},
     "output_type": "execute_result"
    }
   ],
   "source": [
    "# get label counts\n",
    "df_combined[\"label_name\"].value_counts(ascending=True)"
   ]
  },
  {
   "cell_type": "markdown",
   "id": "2652353f-8f48-4e68-861f-e71e2415367d",
   "metadata": {},
   "source": [
    "## Downsampling"
   ]
  },
  {
   "cell_type": "code",
   "execution_count": 26,
   "id": "494d58d5-2b29-4f2d-9611-15c1067138fc",
   "metadata": {},
   "outputs": [],
   "source": [
    "# Separate majority and minority classes\n",
    "df_fear = df_combined[df_combined.label_name=='fear']\n",
    "df_anger = df_combined[df_combined.label_name=='anger']\n",
    "df_sadness = df_combined[df_combined.label_name=='sadness']\n",
    "df_joy = df_combined[df_combined.label_name=='joy']"
   ]
  },
  {
   "cell_type": "code",
   "execution_count": 27,
   "id": "7b3a2ec7-a088-41db-a9d5-22b87bd70982",
   "metadata": {},
   "outputs": [
    {
     "data": {
      "text/plain": [
       "2709"
      ]
     },
     "execution_count": 27,
     "metadata": {},
     "output_type": "execute_result"
    }
   ],
   "source": [
    "len(df_anger)"
   ]
  },
  {
   "cell_type": "code",
   "execution_count": 28,
   "id": "79a2422c-4ee0-4891-a604-8acdf40a25a3",
   "metadata": {},
   "outputs": [],
   "source": [
    "# Downsample majority classes\n",
    "df_anger_downsampled = resample(df_anger, \n",
    "                                 replace=False,    # sample without replacement\n",
    "                                 n_samples=len(df_fear),     # to match minority class\n",
    "                                 random_state=123) # reproducible results\n",
    "\n",
    "df_sadness_downsampled = resample(df_sadness, \n",
    "                                 replace=False,    \n",
    "                                 n_samples=len(df_fear),     \n",
    "                                 random_state=123)\n",
    "\n",
    "df_joy_downsampled = resample(df_joy, \n",
    "                                 replace=False,    \n",
    "                                 n_samples=len(df_fear),     \n",
    "                                 random_state=123)"
   ]
  },
  {
   "cell_type": "code",
   "execution_count": 29,
   "id": "bc6ba629-af74-435f-9f9a-88c1f5a69023",
   "metadata": {},
   "outputs": [
    {
     "name": "stdout",
     "output_type": "stream",
     "text": [
      "label\n",
      "4    2373\n",
      "3    2373\n",
      "0    2373\n",
      "1    2373\n",
      "Name: count, dtype: int64\n"
     ]
    }
   ],
   "source": [
    "# Combine minority class with downsampled majority classes\n",
    "df_downsampled = pd.concat([df_fear, df_anger_downsampled, df_sadness_downsampled, df_joy_downsampled])\n",
    "\n",
    "# Display new class counts\n",
    "print(df_downsampled.label.value_counts())"
   ]
  },
  {
   "cell_type": "code",
   "execution_count": 31,
   "id": "e536629e-97e8-4f97-b799-1d926c1f9efa",
   "metadata": {},
   "outputs": [
    {
     "data": {
      "text/html": [
       "<div>\n",
       "<style scoped>\n",
       "    .dataframe tbody tr th:only-of-type {\n",
       "        vertical-align: middle;\n",
       "    }\n",
       "\n",
       "    .dataframe tbody tr th {\n",
       "        vertical-align: top;\n",
       "    }\n",
       "\n",
       "    .dataframe thead th {\n",
       "        text-align: right;\n",
       "    }\n",
       "</style>\n",
       "<table border=\"1\" class=\"dataframe\">\n",
       "  <thead>\n",
       "    <tr style=\"text-align: right;\">\n",
       "      <th></th>\n",
       "      <th>text</th>\n",
       "      <th>label</th>\n",
       "      <th>label_name</th>\n",
       "    </tr>\n",
       "  </thead>\n",
       "  <tbody>\n",
       "    <tr>\n",
       "      <th>7</th>\n",
       "      <td>i feel as confused about life as a teenager or...</td>\n",
       "      <td>4</td>\n",
       "      <td>fear</td>\n",
       "    </tr>\n",
       "    <tr>\n",
       "      <th>19</th>\n",
       "      <td>i now feel compromised and skeptical of the va...</td>\n",
       "      <td>4</td>\n",
       "      <td>fear</td>\n",
       "    </tr>\n",
       "    <tr>\n",
       "      <th>21</th>\n",
       "      <td>i am feeling completely overwhelmed i have two...</td>\n",
       "      <td>4</td>\n",
       "      <td>fear</td>\n",
       "    </tr>\n",
       "    <tr>\n",
       "      <th>31</th>\n",
       "      <td>i remember feeling acutely distressed for a fe...</td>\n",
       "      <td>4</td>\n",
       "      <td>fear</td>\n",
       "    </tr>\n",
       "    <tr>\n",
       "      <th>53</th>\n",
       "      <td>i was stymied a little bit as i wrote feeling ...</td>\n",
       "      <td>4</td>\n",
       "      <td>fear</td>\n",
       "    </tr>\n",
       "  </tbody>\n",
       "</table>\n",
       "</div>"
      ],
      "text/plain": [
       "                                                 text  label label_name\n",
       "7   i feel as confused about life as a teenager or...      4       fear\n",
       "19  i now feel compromised and skeptical of the va...      4       fear\n",
       "21  i am feeling completely overwhelmed i have two...      4       fear\n",
       "31  i remember feeling acutely distressed for a fe...      4       fear\n",
       "53  i was stymied a little bit as i wrote feeling ...      4       fear"
      ]
     },
     "execution_count": 31,
     "metadata": {},
     "output_type": "execute_result"
    }
   ],
   "source": [
    "df_downsampled.head()"
   ]
  },
  {
   "cell_type": "code",
   "execution_count": 36,
   "id": "d64bab1d-7ae6-4e26-a9a8-4aa72aaac7cb",
   "metadata": {},
   "outputs": [
    {
     "name": "stdout",
     "output_type": "stream",
     "text": [
      "label  label_name\n",
      "0      sadness       2373\n",
      "1      joy           2373\n",
      "3      anger         2373\n",
      "4      fear          2373\n",
      "dtype: int64\n"
     ]
    }
   ],
   "source": [
    "# Group by 'label' and 'label_name' and count the number of occurrences\n",
    "label_group = df_downsampled.groupby(['label', 'label_name']).size()\n",
    "\n",
    "# Print the mapping\n",
    "print(label_group)"
   ]
  },
  {
   "cell_type": "code",
   "execution_count": 37,
   "id": "766d3fe5-505a-484a-b4a0-8e46b46e3072",
   "metadata": {},
   "outputs": [],
   "source": [
    "# I want to crect the order of the label as 0,1,2,3\n",
    "# Define a dictionary to map current labels to new labels\n",
    "label_mapping = {0: 0, 1: 1, 3: 2, 4: 3}\n",
    "\n",
    "# Use the replace function to apply the mapping\n",
    "df_downsampled['label'] = df_downsampled['label'].replace(label_mapping)"
   ]
  },
  {
   "cell_type": "code",
   "execution_count": 39,
   "id": "4115ca8d-feb7-499c-8e84-31406dd03845",
   "metadata": {},
   "outputs": [
    {
     "name": "stdout",
     "output_type": "stream",
     "text": [
      "label  label_name\n",
      "0      sadness       2373\n",
      "1      joy           2373\n",
      "2      anger         2373\n",
      "3      fear          2373\n",
      "dtype: int64\n"
     ]
    }
   ],
   "source": [
    "# Group by 'label' and 'label_name' and count the number of occurrences\n",
    "label_group = df_downsampled.groupby(['label', 'label_name']).size()\n",
    "\n",
    "# Print the mapping\n",
    "print(label_group)"
   ]
  },
  {
   "cell_type": "markdown",
   "id": "5e490694-a9e6-4a20-8ca0-bbb5335c0a7e",
   "metadata": {},
   "source": [
    "## Split df_downsampled to train, validation and test subsets"
   ]
  },
  {
   "cell_type": "code",
   "execution_count": 40,
   "id": "ff6d726b-0227-4fe2-a1d2-faa643b6e897",
   "metadata": {},
   "outputs": [],
   "source": [
    "# First split to separate out the training set\n",
    "df_train, df_temp = train_test_split(df_downsampled, test_size=0.3, random_state=42, stratify=df_downsampled['label_name'])\n",
    "\n",
    "# Second split to separate out the validation and test sets\n",
    "df_validation, df_test = train_test_split(df_temp, test_size=0.5, random_state=42, stratify=df_temp['label_name'])"
   ]
  },
  {
   "cell_type": "markdown",
   "id": "25075fdd-457e-4b76-abca-71661719d2fd",
   "metadata": {},
   "source": [
    "## Convert train, validation, test datasets as Dataset object"
   ]
  },
  {
   "cell_type": "code",
   "execution_count": 41,
   "id": "4b6f34f8-1006-4b2a-af61-842a2a12a768",
   "metadata": {},
   "outputs": [],
   "source": [
    "train_ds = Dataset.from_dict(\n",
    "    {\n",
    "        'text': list(df_train['text']),\n",
    "        'label': list(df_train['label'])\n",
    "    }\n",
    ")\n",
    "\n",
    "test_ds = Dataset.from_dict(\n",
    "    {\n",
    "        'text': list(df_test['text']),\n",
    "        'label': list(df_test['label'])\n",
    "    }\n",
    ")\n",
    "\n",
    "validation_ds = Dataset.from_dict(\n",
    "    {\n",
    "        'text': list(df_validation['text']),\n",
    "        'label': list(df_validation['label'])\n",
    "    }\n",
    ")"
   ]
  },
  {
   "cell_type": "markdown",
   "id": "6731189d-7f29-407a-bca8-6f7be4437c70",
   "metadata": {},
   "source": [
    "## Create ClassLabel for Dataset object"
   ]
  },
  {
   "cell_type": "code",
   "execution_count": 42,
   "id": "4f096b0d-07ae-4e86-8459-1ab5b79a319d",
   "metadata": {},
   "outputs": [],
   "source": [
    "# create ClassLabel\n",
    "labels = ['sadness', 'joy', 'anger', 'fear']\n",
    "ClassLabels = ClassLabel(num_classes=len(labels), names=labels)"
   ]
  },
  {
   "cell_type": "code",
   "execution_count": 43,
   "id": "66395d7b-3fac-43e7-a6f4-c94f16b2a585",
   "metadata": {},
   "outputs": [
    {
     "data": {
      "text/plain": [
       "ClassLabel(names=['sadness', 'joy', 'anger', 'fear'], id=None)"
      ]
     },
     "execution_count": 43,
     "metadata": {},
     "output_type": "execute_result"
    }
   ],
   "source": [
    "ClassLabels"
   ]
  },
  {
   "cell_type": "code",
   "execution_count": 44,
   "id": "62fef40e-be33-4276-8886-b3038873f436",
   "metadata": {},
   "outputs": [
    {
     "data": {
      "application/vnd.jupyter.widget-view+json": {
       "model_id": "7aee79a0e23b44619c605963010d1619",
       "version_major": 2,
       "version_minor": 0
      },
      "text/plain": [
       "Casting the dataset:   0%|          | 0/6644 [00:00<?, ? examples/s]"
      ]
     },
     "metadata": {},
     "output_type": "display_data"
    },
    {
     "data": {
      "application/vnd.jupyter.widget-view+json": {
       "model_id": "e175843d2d6a4eb98790f7dbddbe2a7b",
       "version_major": 2,
       "version_minor": 0
      },
      "text/plain": [
       "Casting the dataset:   0%|          | 0/1424 [00:00<?, ? examples/s]"
      ]
     },
     "metadata": {},
     "output_type": "display_data"
    },
    {
     "data": {
      "application/vnd.jupyter.widget-view+json": {
       "model_id": "4027e92895714490b64f19cd2fcd2165",
       "version_major": 2,
       "version_minor": 0
      },
      "text/plain": [
       "Casting the dataset:   0%|          | 0/1424 [00:00<?, ? examples/s]"
      ]
     },
     "metadata": {},
     "output_type": "display_data"
    }
   ],
   "source": [
    "# Casting label column to ClassLabel Object\n",
    "train_ds = train_ds.cast_column('label', ClassLabels)\n",
    "validation_ds = validation_ds.cast_column('label', ClassLabels)\n",
    "test_ds = test_ds.cast_column('label', ClassLabels)"
   ]
  },
  {
   "cell_type": "markdown",
   "id": "144dd27e-f42c-43d2-b125-e335dee053f7",
   "metadata": {},
   "source": [
    "## Create new dataset as Dataset object"
   ]
  },
  {
   "cell_type": "code",
   "execution_count": 45,
   "id": "5a8179ac-61da-4595-957d-8a6a1c7db619",
   "metadata": {},
   "outputs": [],
   "source": [
    "# create new dataset object with DatasetDict class\n",
    "balanced_emotions_dataset = DatasetDict({\n",
    "    \"train\": train_ds, \n",
    "    \"validation\": validation_ds,\n",
    "    \"test\": test_ds\n",
    "})"
   ]
  },
  {
   "cell_type": "code",
   "execution_count": 46,
   "id": "51b08399-7a73-48ba-806d-55238315384d",
   "metadata": {},
   "outputs": [
    {
     "data": {
      "text/plain": [
       "DatasetDict({\n",
       "    train: Dataset({\n",
       "        features: ['text', 'label'],\n",
       "        num_rows: 6644\n",
       "    })\n",
       "    validation: Dataset({\n",
       "        features: ['text', 'label'],\n",
       "        num_rows: 1424\n",
       "    })\n",
       "    test: Dataset({\n",
       "        features: ['text', 'label'],\n",
       "        num_rows: 1424\n",
       "    })\n",
       "})"
      ]
     },
     "execution_count": 46,
     "metadata": {},
     "output_type": "execute_result"
    }
   ],
   "source": [
    "balanced_emotions_dataset"
   ]
  },
  {
   "cell_type": "code",
   "execution_count": 47,
   "id": "40784a85-3bb6-4b92-a0b7-b50e4c7cbcfc",
   "metadata": {},
   "outputs": [
    {
     "data": {
      "text/plain": [
       "ClassLabel(names=['sadness', 'joy', 'anger', 'fear'], id=None)"
      ]
     },
     "execution_count": 47,
     "metadata": {},
     "output_type": "execute_result"
    }
   ],
   "source": [
    "balanced_emotions_dataset['train'].features['label']"
   ]
  },
  {
   "cell_type": "markdown",
   "id": "308baed6-f653-4c0b-b51c-41a981542afe",
   "metadata": {},
   "source": [
    "## Check balanced dataset distribution"
   ]
  },
  {
   "cell_type": "code",
   "execution_count": 52,
   "id": "066cd34f-e23b-44fe-80ec-e51398b173a8",
   "metadata": {},
   "outputs": [],
   "source": [
    "balanced_emotions_dataset.set_format(type=\"pandas\")\n",
    "df_balanced = balanced_emotions_dataset[\"train\"][:]"
   ]
  },
  {
   "cell_type": "code",
   "execution_count": 53,
   "id": "65340b7d-93a6-4e20-96ff-568ba1db423a",
   "metadata": {},
   "outputs": [
    {
     "data": {
      "text/html": [
       "<div>\n",
       "<style scoped>\n",
       "    .dataframe tbody tr th:only-of-type {\n",
       "        vertical-align: middle;\n",
       "    }\n",
       "\n",
       "    .dataframe tbody tr th {\n",
       "        vertical-align: top;\n",
       "    }\n",
       "\n",
       "    .dataframe thead th {\n",
       "        text-align: right;\n",
       "    }\n",
       "</style>\n",
       "<table border=\"1\" class=\"dataframe\">\n",
       "  <thead>\n",
       "    <tr style=\"text-align: right;\">\n",
       "      <th></th>\n",
       "      <th>text</th>\n",
       "      <th>label</th>\n",
       "      <th>label_name</th>\n",
       "    </tr>\n",
       "  </thead>\n",
       "  <tbody>\n",
       "    <tr>\n",
       "      <th>0</th>\n",
       "      <td>i see momo feel shy momo hmmm gt me heyy momo</td>\n",
       "      <td>3</td>\n",
       "      <td>fear</td>\n",
       "    </tr>\n",
       "    <tr>\n",
       "      <th>1</th>\n",
       "      <td>ive been feeling really shitty lately</td>\n",
       "      <td>0</td>\n",
       "      <td>sadness</td>\n",
       "    </tr>\n",
       "    <tr>\n",
       "      <th>2</th>\n",
       "      <td>i feel messy and out there</td>\n",
       "      <td>0</td>\n",
       "      <td>sadness</td>\n",
       "    </tr>\n",
       "    <tr>\n",
       "      <th>3</th>\n",
       "      <td>i just need to find ways to feel pretty</td>\n",
       "      <td>1</td>\n",
       "      <td>joy</td>\n",
       "    </tr>\n",
       "    <tr>\n",
       "      <th>4</th>\n",
       "      <td>i dont know why but every time i feel like i a...</td>\n",
       "      <td>0</td>\n",
       "      <td>sadness</td>\n",
       "    </tr>\n",
       "  </tbody>\n",
       "</table>\n",
       "</div>"
      ],
      "text/plain": [
       "                                                text  label label_name\n",
       "0      i see momo feel shy momo hmmm gt me heyy momo      3       fear\n",
       "1              ive been feeling really shitty lately      0    sadness\n",
       "2                         i feel messy and out there      0    sadness\n",
       "3            i just need to find ways to feel pretty      1        joy\n",
       "4  i dont know why but every time i feel like i a...      0    sadness"
      ]
     },
     "execution_count": 53,
     "metadata": {},
     "output_type": "execute_result"
    }
   ],
   "source": [
    "def balanced_label_int2str(row):\n",
    "    return balanced_emotions_dataset[\"train\"].features[\"label\"].int2str(row)\n",
    "\n",
    "df_balanced[\"label_name\"] = df_balanced[\"label\"].apply(balanced_label_int2str)\n",
    "df_balanced.head()"
   ]
  },
  {
   "cell_type": "code",
   "execution_count": 54,
   "id": "1c4228c9-8551-4329-91e2-c132d83573e8",
   "metadata": {},
   "outputs": [
    {
     "data": {
      "image/png": "[encoded data removed]",
      "text/plain": [
       "<Figure size 640x480 with 1 Axes>"
      ]
     },
     "metadata": {},
     "output_type": "display_data"
    }
   ],
   "source": [
    "df_balanced[\"label_name\"].value_counts(ascending=True).plot.barh()\n",
    "plt.title(\"Label distribution\")\n",
    "plt.ylabel(\"Label name\")\n",
    "plt.xlabel(\"Count\")\n",
    "plt.show()"
   ]
  },
  {
   "cell_type": "code",
   "execution_count": 55,
   "id": "76e90386-ca9a-4565-9328-8f1244de52ae",
   "metadata": {},
   "outputs": [
    {
     "data": {
      "text/plain": [
       "label_name\n",
       "fear       1661\n",
       "sadness    1661\n",
       "joy        1661\n",
       "anger      1661\n",
       "Name: count, dtype: int64"
      ]
     },
     "execution_count": 55,
     "metadata": {},
     "output_type": "execute_result"
    }
   ],
   "source": [
    "df_balanced[\"label_name\"].value_counts(ascending=True)"
   ]
  },
  {
   "cell_type": "markdown",
   "id": "92fbb099-6871-44c2-b16b-bbc92c06d0b0",
   "metadata": {},
   "source": [
    "## Push dataset to hub"
   ]
  },
  {
   "cell_type": "code",
   "execution_count": 56,
   "id": "0aea28d2-ef27-4520-a9d0-df4c5c7f7dc9",
   "metadata": {},
   "outputs": [
    {
     "data": {
      "application/vnd.jupyter.widget-view+json": {
       "model_id": "448c2a6eca67448abfc0d0c6bf8fe52e",
       "version_major": 2,
       "version_minor": 0
      },
      "text/plain": [
       "Uploading the dataset shards:   0%|          | 0/1 [00:00<?, ?it/s]"
      ]
     },
     "metadata": {},
     "output_type": "display_data"
    },
    {
     "data": {
      "application/vnd.jupyter.widget-view+json": {
       "model_id": "3a3f12d8a8ef46caadced2e4e3e94494",
       "version_major": 2,
       "version_minor": 0
      },
      "text/plain": [
       "Creating parquet from Arrow format:   0%|          | 0/7 [00:00<?, ?ba/s]"
      ]
     },
     "metadata": {},
     "output_type": "display_data"
    },
    {
     "data": {
      "application/vnd.jupyter.widget-view+json": {
       "model_id": "17c9f30ca60e46229199bcbddc45f585",
       "version_major": 2,
       "version_minor": 0
      },
      "text/plain": [
       "Uploading the dataset shards:   0%|          | 0/1 [00:00<?, ?it/s]"
      ]
     },
     "metadata": {},
     "output_type": "display_data"
    },
    {
     "data": {
      "application/vnd.jupyter.widget-view+json": {
       "model_id": "49a4eebe7e3446aebd4f70f7d284522d",
       "version_major": 2,
       "version_minor": 0
      },
      "text/plain": [
       "Creating parquet from Arrow format:   0%|          | 0/2 [00:00<?, ?ba/s]"
      ]
     },
     "metadata": {},
     "output_type": "display_data"
    },
    {
     "data": {
      "application/vnd.jupyter.widget-view+json": {
       "model_id": "af2e4ef6a5194d209f3fcf7b24f234a5",
       "version_major": 2,
       "version_minor": 0
      },
      "text/plain": [
       "Uploading the dataset shards:   0%|          | 0/1 [00:00<?, ?it/s]"
      ]
     },
     "metadata": {},
     "output_type": "display_data"
    },
    {
     "data": {
      "application/vnd.jupyter.widget-view+json": {
       "model_id": "6e98c92d604b4d8cb97cd7103125c0db",
       "version_major": 2,
       "version_minor": 0
      },
      "text/plain": [
       "Creating parquet from Arrow format:   0%|          | 0/2 [00:00<?, ?ba/s]"
      ]
     },
     "metadata": {},
     "output_type": "display_data"
    },
    {
     "data": {
      "text/plain": [
       "CommitInfo(commit_url='https://huggingface.co/datasets/tanquangduong/emotion-balanced/commit/ee3e4d7269b97ce2a3808a1e91b5774305aaac26', commit_message='Upload dataset', commit_description='', oid='ee3e4d7269b97ce2a3808a1e91b5774305aaac26', pr_url=None, pr_revision=None, pr_num=None)"
      ]
     },
     "execution_count": 56,
     "metadata": {},
     "output_type": "execute_result"
    }
   ],
   "source": [
    "balanced_emotions_dataset.push_to_hub(\"tanquangduong/emotion-balanced\")"
   ]
  },
  {
   "cell_type": "code",
   "execution_count": null,
   "id": "d21103a7-d941-4eee-91ab-b8835096b63e",
   "metadata": {},
   "outputs": [],
   "source": []
  }
 ],
 "metadata": {
  "kernelspec": {
   "display_name": "Python 3 (ipykernel)",
   "language": "python",
   "name": "python3"
  },
  "language_info": {
   "codemirror_mode": {
    "name": "ipython",
    "version": 3
   },
   "file_extension": ".py",
   "mimetype": "text/x-python",
   "name": "python",
   "nbconvert_exporter": "python",
   "pygments_lexer": "ipython3",
   "version": "3.10.14"
  }
 },
 "nbformat": 4,
 "nbformat_minor": 5
}
