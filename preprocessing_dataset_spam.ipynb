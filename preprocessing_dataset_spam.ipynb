{
 "cells": [
  {
   "cell_type": "markdown",
   "id": "1c33cf04-9bb6-4bee-9c80-0747206f7f77",
   "metadata": {},
   "source": [
    "## Import required packages"
   ]
  },
  {
   "cell_type": "code",
   "execution_count": 40,
   "id": "0d181712-2721-47e8-8816-2a8856699173",
   "metadata": {},
   "outputs": [],
   "source": [
    "import os\n",
    "import torch\n",
    "import numpy as np\n",
    "import matplotlib.pyplot as plt\n",
    "from datasets import load_dataset, load_from_disk, load_dataset_builder, get_dataset_split_names, ClassLabel,Dataset,DatasetDict\n",
    "from sklearn.model_selection import train_test_split"
   ]
  },
  {
   "cell_type": "markdown",
   "id": "d04f3747-91a2-4df4-bb03-0be4b1341933",
   "metadata": {},
   "source": [
    "## Login to Huggingface Hub \n",
    "To push the trained model to your Hugging Face Hub"
   ]
  },
  {
   "cell_type": "code",
   "execution_count": 2,
   "id": "f4a531d9-d253-4f5d-8a0b-88d846cf9f69",
   "metadata": {},
   "outputs": [
    {
     "data": {
      "application/vnd.jupyter.widget-view+json": {
       "model_id": "5f253ebb874d4aed819f2800cf18cc6d",
       "version_major": 2,
       "version_minor": 0
      },
      "text/plain": [
       "VBox(children=(HTML(value='<center> <img\\nsrc=https://huggingface.co/front/assets/huggingface_logo-noborder.sv…"
      ]
     },
     "metadata": {},
     "output_type": "display_data"
    }
   ],
   "source": [
    "from huggingface_hub import notebook_login\n",
    "notebook_login()"
   ]
  },
  {
   "cell_type": "markdown",
   "id": "a35b34ff-5af9-4b3d-a9f8-fc6c1c15e525",
   "metadata": {},
   "source": [
    "## Load and Explore dataset"
   ]
  },
  {
   "cell_type": "code",
   "execution_count": 7,
   "id": "a3ab8dbd-f75b-41b0-b457-4f440c9ba840",
   "metadata": {},
   "outputs": [
    {
     "data": {
      "application/vnd.jupyter.widget-view+json": {
       "model_id": "98c0805821ba4272a4f1d72e04d5b59a",
       "version_major": 2,
       "version_minor": 0
      },
      "text/plain": [
       "Saving the dataset (0/1 shards):   0%|          | 0/8175 [00:00<?, ? examples/s]"
      ]
     },
     "metadata": {},
     "output_type": "display_data"
    },
    {
     "data": {
      "application/vnd.jupyter.widget-view+json": {
       "model_id": "c2209c9a9c614656b4bca2a36b98b620",
       "version_major": 2,
       "version_minor": 0
      },
      "text/plain": [
       "Saving the dataset (0/1 shards):   0%|          | 0/2725 [00:00<?, ? examples/s]"
      ]
     },
     "metadata": {},
     "output_type": "display_data"
    }
   ],
   "source": [
    "# get dataset\n",
    "dataset_name = \"Deysi/spam-detection-dataset\"\n",
    "dataset = load_dataset(dataset_name)\n",
    "\n",
    "# save to disk \n",
    "dataset.save_to_disk('./datasets/spam-detection-dataset')\n",
    "\n",
    "# reload\n",
    "dataset_loaded = load_from_disk('./datasets/spam-detection-dataset')"
   ]
  },
  {
   "cell_type": "code",
   "execution_count": 9,
   "id": "c2022654-fa0e-4f62-8a22-1ddc3e4fd152",
   "metadata": {},
   "outputs": [],
   "source": [
    "# get datasetBuildrt\n",
    "ds_builder = load_dataset_builder(dataset_name)"
   ]
  },
  {
   "cell_type": "code",
   "execution_count": 10,
   "id": "6c75fb19-2160-4fe7-b495-93cedbae8e44",
   "metadata": {},
   "outputs": [
    {
     "data": {
      "text/plain": [
       "''"
      ]
     },
     "execution_count": 10,
     "metadata": {},
     "output_type": "execute_result"
    }
   ],
   "source": [
    "# Inspect dataset description\n",
    "ds_builder.info.description"
   ]
  },
  {
   "cell_type": "code",
   "execution_count": 11,
   "id": "cb65cc83-7945-4fd1-af2d-75b45e728e64",
   "metadata": {},
   "outputs": [
    {
     "data": {
      "text/plain": [
       "{'text': Value(dtype='string', id=None),\n",
       " 'label': Value(dtype='string', id=None)}"
      ]
     },
     "execution_count": 11,
     "metadata": {},
     "output_type": "execute_result"
    }
   ],
   "source": [
    "# Inspect dataset features\n",
    "ds_builder.info.features"
   ]
  },
  {
   "cell_type": "code",
   "execution_count": 12,
   "id": "bc38398e-31cd-4bda-b960-e47a59bf5516",
   "metadata": {},
   "outputs": [
    {
     "data": {
      "text/plain": [
       "['train', 'test']"
      ]
     },
     "execution_count": 12,
     "metadata": {},
     "output_type": "execute_result"
    }
   ],
   "source": [
    "# show split subsets\n",
    "get_dataset_split_names(dataset_name)"
   ]
  },
  {
   "cell_type": "code",
   "execution_count": 13,
   "id": "b3ec4195-7fae-4cc1-b799-ea6479bc512a",
   "metadata": {},
   "outputs": [
    {
     "data": {
      "text/plain": [
       "DatasetDict({\n",
       "    train: Dataset({\n",
       "        features: ['text', 'label'],\n",
       "        num_rows: 8175\n",
       "    })\n",
       "    test: Dataset({\n",
       "        features: ['text', 'label'],\n",
       "        num_rows: 2725\n",
       "    })\n",
       "})"
      ]
     },
     "execution_count": 13,
     "metadata": {},
     "output_type": "execute_result"
    }
   ],
   "source": [
    "# print dataset\n",
    "dataset"
   ]
  },
  {
   "cell_type": "code",
   "execution_count": 14,
   "id": "46399564-23a7-4553-9229-f7100fc78aa9",
   "metadata": {},
   "outputs": [
    {
     "data": {
      "text/plain": [
       "Value(dtype='string', id=None)"
      ]
     },
     "execution_count": 14,
     "metadata": {},
     "output_type": "execute_result"
    }
   ],
   "source": [
    "# print dataset label \n",
    "dataset[\"train\"].features[\"label\"]"
   ]
  },
  {
   "cell_type": "code",
   "execution_count": 15,
   "id": "1c37fca4-78e2-45ac-85dd-728656fcce54",
   "metadata": {},
   "outputs": [
    {
     "data": {
      "text/plain": [
       "['hey I am looking for Xray baggage datasets can you provide me with the same ',\n",
       " '\"Get rich quick! Make millions in just days with our new and revolutionary system! Don\\'t miss out on this amazing opportunity!\"\\n\\n',\n",
       " \"URGENT MESSAGE: YOU WON'T BELIEVE WHAT WE HAVE TO OFFER!!!\\n\\nHey you! Yeah, you with the eyes reading this right now. Do you want to be the coolest cat on the block? Do you want to get all the likes, hearts and emojis? Do you want to be ~*POPULAR*~? Well, we have the solution for you.\\n\\nIntroducing our brand new feature that will blow your mind and your feed! We can't give away too many details, but let's just say it involves puppies, unicorns, and a drum kit.\\n\\nBut wait, there's more! Sign up\"]"
      ]
     },
     "execution_count": 15,
     "metadata": {},
     "output_type": "execute_result"
    }
   ],
   "source": [
    "# show some samples for text\n",
    "dataset['train'][:3]['text']"
   ]
  },
  {
   "cell_type": "code",
   "execution_count": 16,
   "id": "6b18089d-818a-488c-a42b-4732db350467",
   "metadata": {
    "scrolled": true
   },
   "outputs": [
    {
     "data": {
      "text/plain": [
       "['not_spam', 'spam', 'spam']"
      ]
     },
     "execution_count": 16,
     "metadata": {},
     "output_type": "execute_result"
    }
   ],
   "source": [
    "dataset['train'][:3]['label']"
   ]
  },
  {
   "cell_type": "markdown",
   "id": "251e6622-ad64-4392-88a5-5df694a7ccb3",
   "metadata": {},
   "source": [
    "### Transform dataset to dataframe"
   ]
  },
  {
   "cell_type": "code",
   "execution_count": 17,
   "id": "cfacc428-61bb-467e-8824-8b3a8c25d113",
   "metadata": {},
   "outputs": [
    {
     "name": "stdout",
     "output_type": "stream",
     "text": [
      "(8175, 2)\n",
      "                                                text     label\n",
      "0  hey I am looking for Xray baggage datasets can...  not_spam\n",
      "1  \"Get rich quick! Make millions in just days wi...      spam\n",
      "2  URGENT MESSAGE: YOU WON'T BELIEVE WHAT WE HAVE...      spam\n",
      "3  [Google AI Blog: Contributing Data to Deepfake...  not_spam\n",
      "4  Trying to see if anyone already has timestamps...  not_spam\n",
      "(2725, 2)\n",
      "                                                text     label\n",
      "0   Deezer.com 10,406,168 Artist DB\\n\\nWe have sc...  not_spam\n",
      "1  🚨 ATTENTION ALL USERS! 🚨\\n\\n🆘 Are you looking ...      spam\n",
      "2  I'm working on a stats project to test some of...  not_spam\n",
      "3  [[Sorry, I cannot generate inappropriate or sp...      spam\n",
      "4  L@@k at these Unbelievable diet pills that can...      spam\n"
     ]
    }
   ],
   "source": [
    "# get dataframe format of the dataset\n",
    "dataset.set_format(type=\"pandas\")\n",
    "df_train = dataset[\"train\"][:]\n",
    "df_test = dataset[\"test\"][:]\n",
    "print(df_train.shape)\n",
    "print(df_train.head())\n",
    "print(df_test.shape)\n",
    "print(df_test.head())"
   ]
  },
  {
   "cell_type": "code",
   "execution_count": 18,
   "id": "74d0f5a6-9bfa-4c2b-aef7-05e874c89af6",
   "metadata": {},
   "outputs": [
    {
     "data": {
      "text/html": [
       "<div>\n",
       "<style scoped>\n",
       "    .dataframe tbody tr th:only-of-type {\n",
       "        vertical-align: middle;\n",
       "    }\n",
       "\n",
       "    .dataframe tbody tr th {\n",
       "        vertical-align: top;\n",
       "    }\n",
       "\n",
       "    .dataframe thead th {\n",
       "        text-align: right;\n",
       "    }\n",
       "</style>\n",
       "<table border=\"1\" class=\"dataframe\">\n",
       "  <thead>\n",
       "    <tr style=\"text-align: right;\">\n",
       "      <th></th>\n",
       "      <th>text</th>\n",
       "      <th>label</th>\n",
       "      <th>label_name</th>\n",
       "    </tr>\n",
       "  </thead>\n",
       "  <tbody>\n",
       "    <tr>\n",
       "      <th>0</th>\n",
       "      <td>hey I am looking for Xray baggage datasets can...</td>\n",
       "      <td>not_spam</td>\n",
       "      <td>not_spam</td>\n",
       "    </tr>\n",
       "    <tr>\n",
       "      <th>1</th>\n",
       "      <td>\"Get rich quick! Make millions in just days wi...</td>\n",
       "      <td>spam</td>\n",
       "      <td>spam</td>\n",
       "    </tr>\n",
       "    <tr>\n",
       "      <th>2</th>\n",
       "      <td>URGENT MESSAGE: YOU WON'T BELIEVE WHAT WE HAVE...</td>\n",
       "      <td>spam</td>\n",
       "      <td>spam</td>\n",
       "    </tr>\n",
       "    <tr>\n",
       "      <th>3</th>\n",
       "      <td>[Google AI Blog: Contributing Data to Deepfake...</td>\n",
       "      <td>not_spam</td>\n",
       "      <td>not_spam</td>\n",
       "    </tr>\n",
       "    <tr>\n",
       "      <th>4</th>\n",
       "      <td>Trying to see if anyone already has timestamps...</td>\n",
       "      <td>not_spam</td>\n",
       "      <td>not_spam</td>\n",
       "    </tr>\n",
       "  </tbody>\n",
       "</table>\n",
       "</div>"
      ],
      "text/plain": [
       "                                                text     label label_name\n",
       "0  hey I am looking for Xray baggage datasets can...  not_spam   not_spam\n",
       "1  \"Get rich quick! Make millions in just days wi...      spam       spam\n",
       "2  URGENT MESSAGE: YOU WON'T BELIEVE WHAT WE HAVE...      spam       spam\n",
       "3  [Google AI Blog: Contributing Data to Deepfake...  not_spam   not_spam\n",
       "4  Trying to see if anyone already has timestamps...  not_spam   not_spam"
      ]
     },
     "execution_count": 18,
     "metadata": {},
     "output_type": "execute_result"
    }
   ],
   "source": [
    "df_train['label_name'] = df_train['label']\n",
    "df_train['label_name'] = df_train['label']\n",
    "df_train.head()"
   ]
  },
  {
   "cell_type": "code",
   "execution_count": 19,
   "id": "ba4bb88f-4bc7-4d18-9998-887e4ec24cc6",
   "metadata": {},
   "outputs": [
    {
     "data": {
      "text/html": [
       "<div>\n",
       "<style scoped>\n",
       "    .dataframe tbody tr th:only-of-type {\n",
       "        vertical-align: middle;\n",
       "    }\n",
       "\n",
       "    .dataframe tbody tr th {\n",
       "        vertical-align: top;\n",
       "    }\n",
       "\n",
       "    .dataframe thead th {\n",
       "        text-align: right;\n",
       "    }\n",
       "</style>\n",
       "<table border=\"1\" class=\"dataframe\">\n",
       "  <thead>\n",
       "    <tr style=\"text-align: right;\">\n",
       "      <th></th>\n",
       "      <th>text</th>\n",
       "      <th>label</th>\n",
       "      <th>label_name</th>\n",
       "    </tr>\n",
       "  </thead>\n",
       "  <tbody>\n",
       "    <tr>\n",
       "      <th>0</th>\n",
       "      <td>Deezer.com 10,406,168 Artist DB\\n\\nWe have sc...</td>\n",
       "      <td>not_spam</td>\n",
       "      <td>not_spam</td>\n",
       "    </tr>\n",
       "    <tr>\n",
       "      <th>1</th>\n",
       "      <td>🚨 ATTENTION ALL USERS! 🚨\\n\\n🆘 Are you looking ...</td>\n",
       "      <td>spam</td>\n",
       "      <td>spam</td>\n",
       "    </tr>\n",
       "    <tr>\n",
       "      <th>2</th>\n",
       "      <td>I'm working on a stats project to test some of...</td>\n",
       "      <td>not_spam</td>\n",
       "      <td>not_spam</td>\n",
       "    </tr>\n",
       "    <tr>\n",
       "      <th>3</th>\n",
       "      <td>[[Sorry, I cannot generate inappropriate or sp...</td>\n",
       "      <td>spam</td>\n",
       "      <td>spam</td>\n",
       "    </tr>\n",
       "    <tr>\n",
       "      <th>4</th>\n",
       "      <td>L@@k at these Unbelievable diet pills that can...</td>\n",
       "      <td>spam</td>\n",
       "      <td>spam</td>\n",
       "    </tr>\n",
       "  </tbody>\n",
       "</table>\n",
       "</div>"
      ],
      "text/plain": [
       "                                                text     label label_name\n",
       "0   Deezer.com 10,406,168 Artist DB\\n\\nWe have sc...  not_spam   not_spam\n",
       "1  🚨 ATTENTION ALL USERS! 🚨\\n\\n🆘 Are you looking ...      spam       spam\n",
       "2  I'm working on a stats project to test some of...  not_spam   not_spam\n",
       "3  [[Sorry, I cannot generate inappropriate or sp...      spam       spam\n",
       "4  L@@k at these Unbelievable diet pills that can...      spam       spam"
      ]
     },
     "execution_count": 19,
     "metadata": {},
     "output_type": "execute_result"
    }
   ],
   "source": [
    "df_test['label_name'] = df_test['label']\n",
    "df_test['label_name'] = df_test['label']\n",
    "df_test.head()"
   ]
  },
  {
   "cell_type": "code",
   "execution_count": 20,
   "id": "f91c946a-88b1-4fe7-bb96-944b2ffdabf7",
   "metadata": {},
   "outputs": [],
   "source": [
    "# create dict of label to id \n",
    "label_to_id = {'not_spam': 0, 'spam': 1}\n",
    "\n",
    "# convert string to id label\n",
    "df_train['label'] = df_train['label'].map(lambda row : label_to_id[row])\n",
    "df_test['label'] = df_test['label'].map(lambda row : label_to_id[row])"
   ]
  },
  {
   "cell_type": "code",
   "execution_count": 21,
   "id": "0439053d-0fe2-4684-8fd6-5e983708cc1c",
   "metadata": {},
   "outputs": [
    {
     "data": {
      "text/html": [
       "<div>\n",
       "<style scoped>\n",
       "    .dataframe tbody tr th:only-of-type {\n",
       "        vertical-align: middle;\n",
       "    }\n",
       "\n",
       "    .dataframe tbody tr th {\n",
       "        vertical-align: top;\n",
       "    }\n",
       "\n",
       "    .dataframe thead th {\n",
       "        text-align: right;\n",
       "    }\n",
       "</style>\n",
       "<table border=\"1\" class=\"dataframe\">\n",
       "  <thead>\n",
       "    <tr style=\"text-align: right;\">\n",
       "      <th></th>\n",
       "      <th>text</th>\n",
       "      <th>label</th>\n",
       "      <th>label_name</th>\n",
       "    </tr>\n",
       "  </thead>\n",
       "  <tbody>\n",
       "    <tr>\n",
       "      <th>0</th>\n",
       "      <td>hey I am looking for Xray baggage datasets can...</td>\n",
       "      <td>0</td>\n",
       "      <td>not_spam</td>\n",
       "    </tr>\n",
       "    <tr>\n",
       "      <th>1</th>\n",
       "      <td>\"Get rich quick! Make millions in just days wi...</td>\n",
       "      <td>1</td>\n",
       "      <td>spam</td>\n",
       "    </tr>\n",
       "    <tr>\n",
       "      <th>2</th>\n",
       "      <td>URGENT MESSAGE: YOU WON'T BELIEVE WHAT WE HAVE...</td>\n",
       "      <td>1</td>\n",
       "      <td>spam</td>\n",
       "    </tr>\n",
       "    <tr>\n",
       "      <th>3</th>\n",
       "      <td>[Google AI Blog: Contributing Data to Deepfake...</td>\n",
       "      <td>0</td>\n",
       "      <td>not_spam</td>\n",
       "    </tr>\n",
       "    <tr>\n",
       "      <th>4</th>\n",
       "      <td>Trying to see if anyone already has timestamps...</td>\n",
       "      <td>0</td>\n",
       "      <td>not_spam</td>\n",
       "    </tr>\n",
       "  </tbody>\n",
       "</table>\n",
       "</div>"
      ],
      "text/plain": [
       "                                                text  label label_name\n",
       "0  hey I am looking for Xray baggage datasets can...      0   not_spam\n",
       "1  \"Get rich quick! Make millions in just days wi...      1       spam\n",
       "2  URGENT MESSAGE: YOU WON'T BELIEVE WHAT WE HAVE...      1       spam\n",
       "3  [Google AI Blog: Contributing Data to Deepfake...      0   not_spam\n",
       "4  Trying to see if anyone already has timestamps...      0   not_spam"
      ]
     },
     "execution_count": 21,
     "metadata": {},
     "output_type": "execute_result"
    }
   ],
   "source": [
    "df_train.head()"
   ]
  },
  {
   "cell_type": "code",
   "execution_count": 22,
   "id": "ef311690-0d33-4638-b758-8b6b759e1f71",
   "metadata": {},
   "outputs": [
    {
     "data": {
      "text/html": [
       "<div>\n",
       "<style scoped>\n",
       "    .dataframe tbody tr th:only-of-type {\n",
       "        vertical-align: middle;\n",
       "    }\n",
       "\n",
       "    .dataframe tbody tr th {\n",
       "        vertical-align: top;\n",
       "    }\n",
       "\n",
       "    .dataframe thead th {\n",
       "        text-align: right;\n",
       "    }\n",
       "</style>\n",
       "<table border=\"1\" class=\"dataframe\">\n",
       "  <thead>\n",
       "    <tr style=\"text-align: right;\">\n",
       "      <th></th>\n",
       "      <th>text</th>\n",
       "      <th>label</th>\n",
       "      <th>label_name</th>\n",
       "    </tr>\n",
       "  </thead>\n",
       "  <tbody>\n",
       "    <tr>\n",
       "      <th>0</th>\n",
       "      <td>Deezer.com 10,406,168 Artist DB\\n\\nWe have sc...</td>\n",
       "      <td>0</td>\n",
       "      <td>not_spam</td>\n",
       "    </tr>\n",
       "    <tr>\n",
       "      <th>1</th>\n",
       "      <td>🚨 ATTENTION ALL USERS! 🚨\\n\\n🆘 Are you looking ...</td>\n",
       "      <td>1</td>\n",
       "      <td>spam</td>\n",
       "    </tr>\n",
       "    <tr>\n",
       "      <th>2</th>\n",
       "      <td>I'm working on a stats project to test some of...</td>\n",
       "      <td>0</td>\n",
       "      <td>not_spam</td>\n",
       "    </tr>\n",
       "    <tr>\n",
       "      <th>3</th>\n",
       "      <td>[[Sorry, I cannot generate inappropriate or sp...</td>\n",
       "      <td>1</td>\n",
       "      <td>spam</td>\n",
       "    </tr>\n",
       "    <tr>\n",
       "      <th>4</th>\n",
       "      <td>L@@k at these Unbelievable diet pills that can...</td>\n",
       "      <td>1</td>\n",
       "      <td>spam</td>\n",
       "    </tr>\n",
       "  </tbody>\n",
       "</table>\n",
       "</div>"
      ],
      "text/plain": [
       "                                                text  label label_name\n",
       "0   Deezer.com 10,406,168 Artist DB\\n\\nWe have sc...      0   not_spam\n",
       "1  🚨 ATTENTION ALL USERS! 🚨\\n\\n🆘 Are you looking ...      1       spam\n",
       "2  I'm working on a stats project to test some of...      0   not_spam\n",
       "3  [[Sorry, I cannot generate inappropriate or sp...      1       spam\n",
       "4  L@@k at these Unbelievable diet pills that can...      1       spam"
      ]
     },
     "execution_count": 22,
     "metadata": {},
     "output_type": "execute_result"
    }
   ],
   "source": [
    "df_test.head()"
   ]
  },
  {
   "cell_type": "markdown",
   "id": "4bdbeaba-638d-4d2c-8ce4-9757fd1bae4e",
   "metadata": {},
   "source": [
    "## Create validation dataset\n",
    "Split 50% of test dataset to create validation dataset"
   ]
  },
  {
   "cell_type": "code",
   "execution_count": 23,
   "id": "478ac562-f385-47e0-81c4-8403f901725f",
   "metadata": {},
   "outputs": [],
   "source": [
    "# Assuming 'df_test' is your test dataframe\n",
    "df_validation, df_test_new = train_test_split(df_test, test_size=0.5, random_state=42)"
   ]
  },
  {
   "cell_type": "code",
   "execution_count": 24,
   "id": "ba62cbc8-9564-4a61-b58f-fc2f5cbd534c",
   "metadata": {},
   "outputs": [
    {
     "data": {
      "text/html": [
       "<div>\n",
       "<style scoped>\n",
       "    .dataframe tbody tr th:only-of-type {\n",
       "        vertical-align: middle;\n",
       "    }\n",
       "\n",
       "    .dataframe tbody tr th {\n",
       "        vertical-align: top;\n",
       "    }\n",
       "\n",
       "    .dataframe thead th {\n",
       "        text-align: right;\n",
       "    }\n",
       "</style>\n",
       "<table border=\"1\" class=\"dataframe\">\n",
       "  <thead>\n",
       "    <tr style=\"text-align: right;\">\n",
       "      <th></th>\n",
       "      <th>text</th>\n",
       "      <th>label</th>\n",
       "      <th>label_name</th>\n",
       "    </tr>\n",
       "  </thead>\n",
       "  <tbody>\n",
       "    <tr>\n",
       "      <th>2509</th>\n",
       "      <td>I was looking for images of diagnosis report w...</td>\n",
       "      <td>0</td>\n",
       "      <td>not_spam</td>\n",
       "    </tr>\n",
       "    <tr>\n",
       "      <th>2291</th>\n",
       "      <td>I know there aren't many cases but would like ...</td>\n",
       "      <td>0</td>\n",
       "      <td>not_spam</td>\n",
       "    </tr>\n",
       "    <tr>\n",
       "      <th>1112</th>\n",
       "      <td>I'm looking for data to see the share democrat...</td>\n",
       "      <td>0</td>\n",
       "      <td>not_spam</td>\n",
       "    </tr>\n",
       "    <tr>\n",
       "      <th>465</th>\n",
       "      <td>Get rich quick!!🤑🤑🤑 \\n\\nOur network is the BES...</td>\n",
       "      <td>1</td>\n",
       "      <td>spam</td>\n",
       "    </tr>\n",
       "    <tr>\n",
       "      <th>1223</th>\n",
       "      <td>I really like the way Craigslist does cities a...</td>\n",
       "      <td>0</td>\n",
       "      <td>not_spam</td>\n",
       "    </tr>\n",
       "  </tbody>\n",
       "</table>\n",
       "</div>"
      ],
      "text/plain": [
       "                                                   text  label label_name\n",
       "2509  I was looking for images of diagnosis report w...      0   not_spam\n",
       "2291  I know there aren't many cases but would like ...      0   not_spam\n",
       "1112  I'm looking for data to see the share democrat...      0   not_spam\n",
       "465   Get rich quick!!🤑🤑🤑 \\n\\nOur network is the BES...      1       spam\n",
       "1223  I really like the way Craigslist does cities a...      0   not_spam"
      ]
     },
     "execution_count": 24,
     "metadata": {},
     "output_type": "execute_result"
    }
   ],
   "source": [
    "df_validation.head()"
   ]
  },
  {
   "cell_type": "code",
   "execution_count": 25,
   "id": "f399ebfd-1e2c-4764-901e-4716f4398053",
   "metadata": {},
   "outputs": [
    {
     "data": {
      "text/plain": [
       "(1362, 3)"
      ]
     },
     "execution_count": 25,
     "metadata": {},
     "output_type": "execute_result"
    }
   ],
   "source": [
    "df_validation.shape"
   ]
  },
  {
   "cell_type": "code",
   "execution_count": 26,
   "id": "8e408304-6d18-4a01-b7b1-00a3e076eaf6",
   "metadata": {},
   "outputs": [
    {
     "data": {
      "text/plain": [
       "(1363, 3)"
      ]
     },
     "execution_count": 26,
     "metadata": {},
     "output_type": "execute_result"
    }
   ],
   "source": [
    "df_test_new.shape"
   ]
  },
  {
   "cell_type": "markdown",
   "id": "a064b973-92c5-4723-8d35-3e2791d53eae",
   "metadata": {},
   "source": [
    "## Convert train, validation, test datasets as Dataset object "
   ]
  },
  {
   "cell_type": "code",
   "execution_count": 28,
   "id": "9642ce62-7d71-443e-a949-7cb70d5f6eb3",
   "metadata": {},
   "outputs": [],
   "source": [
    "train_ds = Dataset.from_dict(\n",
    "    {\n",
    "        'text': list(df_train['text']),\n",
    "        'label': list(df_train['label'])\n",
    "    }\n",
    ")\n",
    "\n",
    "test_ds = Dataset.from_dict(\n",
    "    {\n",
    "        'text': list(df_test_new['text']),\n",
    "        'label': list(df_test_new['label'])\n",
    "    }\n",
    ")\n",
    "\n",
    "validation_ds = Dataset.from_dict(\n",
    "    {\n",
    "        'text': list(df_validation['text']),\n",
    "        'label': list(df_validation['label'])\n",
    "    }\n",
    ")"
   ]
  },
  {
   "cell_type": "code",
   "execution_count": 29,
   "id": "3ce64025-1eb0-4156-a4d0-71f88b9e9e4a",
   "metadata": {},
   "outputs": [
    {
     "data": {
      "text/plain": [
       "Dataset({\n",
       "    features: ['text', 'label'],\n",
       "    num_rows: 8175\n",
       "})"
      ]
     },
     "execution_count": 29,
     "metadata": {},
     "output_type": "execute_result"
    }
   ],
   "source": [
    "train_ds"
   ]
  },
  {
   "cell_type": "code",
   "execution_count": 30,
   "id": "0520b6ab-9e0f-4866-b7db-ea077f33704a",
   "metadata": {},
   "outputs": [
    {
     "data": {
      "text/plain": [
       "Dataset({\n",
       "    features: ['text', 'label'],\n",
       "    num_rows: 1363\n",
       "})"
      ]
     },
     "execution_count": 30,
     "metadata": {},
     "output_type": "execute_result"
    }
   ],
   "source": [
    "test_ds"
   ]
  },
  {
   "cell_type": "code",
   "execution_count": 31,
   "id": "afded962-8b77-4b62-99c6-fdebcfb652c1",
   "metadata": {},
   "outputs": [
    {
     "data": {
      "text/plain": [
       "Dataset({\n",
       "    features: ['text', 'label'],\n",
       "    num_rows: 1362\n",
       "})"
      ]
     },
     "execution_count": 31,
     "metadata": {},
     "output_type": "execute_result"
    }
   ],
   "source": [
    "validation_ds"
   ]
  },
  {
   "cell_type": "code",
   "execution_count": 32,
   "id": "3c239d41-68f1-4aa3-be6b-e9809ed51247",
   "metadata": {},
   "outputs": [
    {
     "data": {
      "text/plain": [
       "Value(dtype='int64', id=None)"
      ]
     },
     "execution_count": 32,
     "metadata": {},
     "output_type": "execute_result"
    }
   ],
   "source": [
    "train_ds.features[\"label\"]"
   ]
  },
  {
   "cell_type": "markdown",
   "id": "6a73a694-4913-47f8-b809-fe60bb0a5316",
   "metadata": {},
   "source": [
    "## Create ClassLabel for Dataset object"
   ]
  },
  {
   "cell_type": "code",
   "execution_count": 33,
   "id": "5f167870-0b27-41bd-a2a0-dd9666816146",
   "metadata": {},
   "outputs": [],
   "source": [
    "# create ClassLabel\n",
    "labels = ['not_spam', 'spam']\n",
    "ClassLabels = ClassLabel(num_classes=len(labels), names=labels)"
   ]
  },
  {
   "cell_type": "code",
   "execution_count": 34,
   "id": "ed507338-3f4e-4264-9587-d734314cf7c2",
   "metadata": {},
   "outputs": [
    {
     "data": {
      "application/vnd.jupyter.widget-view+json": {
       "model_id": "644f9c97915b4c76b908a4b16e213c1a",
       "version_major": 2,
       "version_minor": 0
      },
      "text/plain": [
       "Casting the dataset:   0%|          | 0/8175 [00:00<?, ? examples/s]"
      ]
     },
     "metadata": {},
     "output_type": "display_data"
    },
    {
     "data": {
      "application/vnd.jupyter.widget-view+json": {
       "model_id": "2f00cfd30b514d31a3d331effd072517",
       "version_major": 2,
       "version_minor": 0
      },
      "text/plain": [
       "Casting the dataset:   0%|          | 0/1362 [00:00<?, ? examples/s]"
      ]
     },
     "metadata": {},
     "output_type": "display_data"
    },
    {
     "data": {
      "application/vnd.jupyter.widget-view+json": {
       "model_id": "78783fdb83f245fcbb6c138a75e9a689",
       "version_major": 2,
       "version_minor": 0
      },
      "text/plain": [
       "Casting the dataset:   0%|          | 0/1363 [00:00<?, ? examples/s]"
      ]
     },
     "metadata": {},
     "output_type": "display_data"
    }
   ],
   "source": [
    "# Casting label column to ClassLabel Object\n",
    "train_ds = train_ds.cast_column('label', ClassLabels)\n",
    "validation_ds = validation_ds.cast_column('label', ClassLabels)\n",
    "test_ds = test_ds.cast_column('label', ClassLabels)"
   ]
  },
  {
   "cell_type": "code",
   "execution_count": 35,
   "id": "90e89c66-af99-4266-9e7b-03ddec423df6",
   "metadata": {},
   "outputs": [
    {
     "data": {
      "text/plain": [
       "Dataset({\n",
       "    features: ['text', 'label'],\n",
       "    num_rows: 8175\n",
       "})"
      ]
     },
     "execution_count": 35,
     "metadata": {},
     "output_type": "execute_result"
    }
   ],
   "source": [
    "train_ds"
   ]
  },
  {
   "cell_type": "code",
   "execution_count": 36,
   "id": "f3f5df9e-cd55-47e5-8548-60b1ae34c2fc",
   "metadata": {},
   "outputs": [
    {
     "data": {
      "text/plain": [
       "['not_spam', 'spam']"
      ]
     },
     "execution_count": 36,
     "metadata": {},
     "output_type": "execute_result"
    }
   ],
   "source": [
    "train_ds.features['label'].names"
   ]
  },
  {
   "cell_type": "code",
   "execution_count": 37,
   "id": "c387007c-3f07-4abf-a83d-cc333b354f14",
   "metadata": {},
   "outputs": [
    {
     "data": {
      "text/plain": [
       "0"
      ]
     },
     "execution_count": 37,
     "metadata": {},
     "output_type": "execute_result"
    }
   ],
   "source": [
    "train_ds[0]['label']"
   ]
  },
  {
   "cell_type": "code",
   "execution_count": 38,
   "id": "435dd115-8e08-438c-825f-93fa30025b72",
   "metadata": {},
   "outputs": [
    {
     "data": {
      "text/plain": [
       "['not_spam', 'spam']"
      ]
     },
     "execution_count": 38,
     "metadata": {},
     "output_type": "execute_result"
    }
   ],
   "source": [
    "validation_ds.features['label'].names"
   ]
  },
  {
   "cell_type": "code",
   "execution_count": 39,
   "id": "7467bc35-441b-41d0-9567-37b669b59e7f",
   "metadata": {},
   "outputs": [
    {
     "data": {
      "text/plain": [
       "['not_spam', 'spam']"
      ]
     },
     "execution_count": 39,
     "metadata": {},
     "output_type": "execute_result"
    }
   ],
   "source": [
    "test_ds.features['label'].names"
   ]
  },
  {
   "cell_type": "markdown",
   "id": "73becf29-b633-4ebb-a69c-e47411041f3b",
   "metadata": {},
   "source": [
    "## Create new dataset as Dataset object"
   ]
  },
  {
   "cell_type": "code",
   "execution_count": 41,
   "id": "713a08e3-cb3f-4f33-9796-0c0910811501",
   "metadata": {},
   "outputs": [],
   "source": [
    "# create new dataset object with DatasetDict class\n",
    "new_spam_dataset = DatasetDict({\n",
    "    \"train\": train_ds, \n",
    "    \"validation\": validation_ds,\n",
    "    \"test\": test_ds\n",
    "})"
   ]
  },
  {
   "cell_type": "code",
   "execution_count": 42,
   "id": "44a7973f-f15b-423d-93f0-87c69ff8858a",
   "metadata": {},
   "outputs": [
    {
     "data": {
      "text/plain": [
       "DatasetDict({\n",
       "    train: Dataset({\n",
       "        features: ['text', 'label'],\n",
       "        num_rows: 8175\n",
       "    })\n",
       "    validation: Dataset({\n",
       "        features: ['text', 'label'],\n",
       "        num_rows: 1362\n",
       "    })\n",
       "    test: Dataset({\n",
       "        features: ['text', 'label'],\n",
       "        num_rows: 1363\n",
       "    })\n",
       "})"
      ]
     },
     "execution_count": 42,
     "metadata": {},
     "output_type": "execute_result"
    }
   ],
   "source": [
    "new_spam_dataset"
   ]
  },
  {
   "cell_type": "code",
   "execution_count": 43,
   "id": "08aff52b-d06a-480c-b42a-c99360cd0cd3",
   "metadata": {},
   "outputs": [
    {
     "data": {
      "text/plain": [
       "ClassLabel(names=['not_spam', 'spam'], id=None)"
      ]
     },
     "execution_count": 43,
     "metadata": {},
     "output_type": "execute_result"
    }
   ],
   "source": [
    "new_spam_dataset['train'].features['label']"
   ]
  },
  {
   "cell_type": "markdown",
   "id": "769760fb-13e7-4fbc-bb2b-27c8446e7e42",
   "metadata": {},
   "source": [
    "## Push dataset to hub"
   ]
  },
  {
   "cell_type": "code",
   "execution_count": 101,
   "id": "1c4f0182-1c32-4561-996f-fee1be481ec9",
   "metadata": {},
   "outputs": [
    {
     "data": {
      "application/vnd.jupyter.widget-view+json": {
       "model_id": "8e66cae12f0c4600b900eb6960852949",
       "version_major": 2,
       "version_minor": 0
      },
      "text/plain": [
       "Uploading the dataset shards:   0%|          | 0/1 [00:00<?, ?it/s]"
      ]
     },
     "metadata": {},
     "output_type": "display_data"
    },
    {
     "data": {
      "application/vnd.jupyter.widget-view+json": {
       "model_id": "5e9f0b903cf04004b88e13163f1d1c57",
       "version_major": 2,
       "version_minor": 0
      },
      "text/plain": [
       "Creating parquet from Arrow format:   0%|          | 0/9 [00:00<?, ?ba/s]"
      ]
     },
     "metadata": {},
     "output_type": "display_data"
    },
    {
     "data": {
      "application/vnd.jupyter.widget-view+json": {
       "model_id": "94675792499b446cb5d440197b5af8f4",
       "version_major": 2,
       "version_minor": 0
      },
      "text/plain": [
       "Uploading the dataset shards:   0%|          | 0/1 [00:00<?, ?it/s]"
      ]
     },
     "metadata": {},
     "output_type": "display_data"
    },
    {
     "data": {
      "application/vnd.jupyter.widget-view+json": {
       "model_id": "8394d02704724e0280914bce5d341932",
       "version_major": 2,
       "version_minor": 0
      },
      "text/plain": [
       "Creating parquet from Arrow format:   0%|          | 0/2 [00:00<?, ?ba/s]"
      ]
     },
     "metadata": {},
     "output_type": "display_data"
    },
    {
     "data": {
      "application/vnd.jupyter.widget-view+json": {
       "model_id": "7984eca98871472085427098ba9e8354",
       "version_major": 2,
       "version_minor": 0
      },
      "text/plain": [
       "Uploading the dataset shards:   0%|          | 0/1 [00:00<?, ?it/s]"
      ]
     },
     "metadata": {},
     "output_type": "display_data"
    },
    {
     "data": {
      "application/vnd.jupyter.widget-view+json": {
       "model_id": "ba52529785bb49ff931a9aaa28e4f526",
       "version_major": 2,
       "version_minor": 0
      },
      "text/plain": [
       "Creating parquet from Arrow format:   0%|          | 0/2 [00:00<?, ?ba/s]"
      ]
     },
     "metadata": {},
     "output_type": "display_data"
    },
    {
     "data": {
      "text/plain": [
       "CommitInfo(commit_url='https://huggingface.co/datasets/tanquangduong/spam-detection-dataset-splits/commit/48af8e87c005142a5a7bf03ea1cdf9bb8ee89add', commit_message='Upload dataset', commit_description='', oid='48af8e87c005142a5a7bf03ea1cdf9bb8ee89add', pr_url=None, pr_revision=None, pr_num=None)"
      ]
     },
     "execution_count": 101,
     "metadata": {},
     "output_type": "execute_result"
    }
   ],
   "source": [
    "new_spam_dataset.push_to_hub(\"tanquangduong/spam-detection-dataset-splits\")"
   ]
  },
  {
   "cell_type": "code",
   "execution_count": null,
   "id": "e516f022-ee73-4f67-b46d-40ce33b97953",
   "metadata": {},
   "outputs": [],
   "source": []
  },
  {
   "cell_type": "markdown",
   "id": "3786dc25-0ee7-4130-9ba4-d831acaa4d3f",
   "metadata": {},
   "source": []
  }
 ],
 "metadata": {
  "kernelspec": {
   "display_name": "Python 3 (ipykernel)",
   "language": "python",
   "name": "python3"
  },
  "language_info": {
   "codemirror_mode": {
    "name": "ipython",
    "version": 3
   },
   "file_extension": ".py",
   "mimetype": "text/x-python",
   "name": "python",
   "nbconvert_exporter": "python",
   "pygments_lexer": "ipython3",
   "version": "3.10.14"
  }
 },
 "nbformat": 4,
 "nbformat_minor": 5
}
